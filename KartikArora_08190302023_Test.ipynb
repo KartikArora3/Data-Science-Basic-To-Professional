{
 "cells": [
  {
   "cell_type": "code",
   "execution_count": null,
   "id": "1ac84eb6-cd00-41b7-bb06-39d8b9d2f5ce",
   "metadata": {},
   "outputs": [],
   "source": [
    "answer 1\n",
    "list: it is a mutable data type \n",
    "\n",
    "tuple: it is an immutable data type."
   ]
  },
  {
   "cell_type": "code",
   "execution_count": null,
   "id": "c9aeb956-1c0c-45d9-9568-4661f7332c3a",
   "metadata": {},
   "outputs": [],
   "source": [
    "answer 2 \n",
    "input functionin python is need to recieve input from user which can be further proccessed.\n",
    "by default the input functiion involve in string data type with can be changed further from user according to requirement\n",
    "for the input as an integer, we can apply the int() function to the string returned by input()"
   ]
  },
  {
   "cell_type": "code",
   "execution_count": null,
   "id": "29ac7394-4cd6-43e5-a27c-cae1f2edad76",
   "metadata": {},
   "outputs": [],
   "source": [
    "#answer 3 \n",
    "#Python dictionaries are of un ordered collection of data which helps in store values for the pairs.\n",
    "doc = {\n",
    "    \"key1\": 12,\n",
    "    \"key2\": 34,\n",
    "    \"key3\": 56,\n",
    "}"
   ]
  },
  {
   "cell_type": "code",
   "execution_count": null,
   "id": "3e4b4c6e-5d6e-4416-9d78-d55ff8289b72",
   "metadata": {},
   "outputs": [],
   "source": [
    "answer 4\n",
    "#for loop function help in providing the run of code until the goal is achieved itself.\n",
    "# types of loop are: while, for , do while\n",
    "\n",
    "\n",
    "for i in range(1, 6):\n",
    "    print(i)"
   ]
  },
  {
   "cell_type": "code",
   "execution_count": null,
   "id": "dc880669-4b93-48da-85d4-b9b52c377f01",
   "metadata": {},
   "outputs": [],
   "source": [
    "answer 5\n",
    "# exception handling is a process of handling the errors that occur in the code or possible to interrupt while execution.\n",
    "\n",
    "#try block:\n",
    "#- The block try helps in the code that might ivolve an exception. \n",
    " try:\n",
    "     {\n",
    "\n",
    "     }\n",
    "#except block:\n",
    "#- The block except is helps if an exception is raised after the try block. it helps in stating how to define the except error and how to clear it\n",
    "\n",
    " except valuerror:\n",
    "     {\n",
    "print(\"there is error in code\")\n",
    "     }\n",
    "#finally block:\n",
    "#- The block final is executed at everytime in the case of both try as well as except block. \n",
    "\n",
    " finally:\n",
    "  {   \n",
    "   (\"the code is successfull and without any error\")\n",
    "  }"
   ]
  },
  {
   "cell_type": "code",
   "execution_count": null,
   "id": "f22d6f3c-e549-459f-9ef0-108f243adf0f",
   "metadata": {},
   "outputs": [],
   "source": [
    "#  answer 7\n",
    "# oop is in python is programming orinted with usage and depends on objects \n",
    "# it involve tasks like as follow:\n",
    "# encapsulation \n",
    "# abstraction\n",
    "# polymorphism\n",
    "# inheritence \n",
    "#classes are the group involving the types of objects data and forming up i together at one place \n",
    "   __def__init (car,speed,age)\n",
    "        self.car = nissan\n",
    "        self.speed = 300\n",
    "        self.age = 15\n",
    "\n",
    "    def s(self): \n",
    "        print(\"Supra\")\n",
    "\n",
    "  \n",
    "#objects are the one with data and form with particular inputs data \n",
    "1 = (\"toyota\", 300) \n",
    "3 = (\"lexia\", 200) \n"
   ]
  },
  {
   "cell_type": "code",
   "execution_count": null,
   "id": "98d2742c-7f5c-4540-b71f-9a923431843b",
   "metadata": {},
   "outputs": [],
   "source": [
    "#answer 8 :\n",
    "\n",
    "#list comprehension is a way of tranforming the one type to list, (fpr example converting the tuple into list) with the same data\n",
    "#and help in reducing the work effort of making it again \n",
    "#list coomprehension help by the conversion \n"
   ]
  },
  {
   "cell_type": "code",
   "execution_count": null,
   "id": "bfe9d61f-2c2d-4bf9-836f-8f0964db557c",
   "metadata": {},
   "outputs": [],
   "source": [
    "#answer 10\n",
    "\n",
    "name = input(\"Enter your name: \")\n",
    "age = input(\"Enter your age: \")\n",
    "print(f\"Hello {name}, you are {age} years old!\")"
   ]
  },
  {
   "cell_type": "code",
   "execution_count": 7,
   "id": "c15a841c-67fa-4a56-9be8-913165bae542",
   "metadata": {},
   "outputs": [
    {
     "name": "stdout",
     "output_type": "stream",
     "text": [
      "fruits !!!  2: GUAVA\n",
      "fruits !!!  3: KIWI\n",
      "fruits !!!  4: DRAGON \n",
      "fruits !!!  5: LICHI\n",
      "fruits !!!  6: STRAWBERRY\n"
     ]
    }
   ],
   "source": [
    "#answer 11\n",
    "fruits = [\"GUAVA\", \"KIWI\", \"DRAGON \", \"LICHI\", \"STRAWBERRY\"]\n",
    "\n",
    "for index, fruit in enumerate(fruits, start=1):\n",
    "   print(f\"fruits !!!  {index + 1}: {fruit}\")"
   ]
  },
  {
   "cell_type": "code",
   "execution_count": 3,
   "id": "005c18f3-ba6e-4bdf-8884-7b41d42f0a09",
   "metadata": {},
   "outputs": [
    {
     "name": "stdout",
     "output_type": "stream",
     "text": [
      "Score 95: y\n",
      "Score 82: g\n",
      "Score 55: f\n"
     ]
    }
   ],
   "source": [
    "def grade_calculus(score):\n",
    "    if score >= 90:\n",
    "        return 'y'\n",
    "    elif score >= 80:\n",
    "        return 'g'\n",
    "    elif score >= 70:\n",
    "        return 'z'\n",
    "    elif score >= 60:\n",
    "        return 'x'\n",
    "    else:\n",
    "        return 'f'\n",
    "\n",
    "print(f\"Score 95: {grade_calculus(95)}\")\n",
    "print(f\"Score 82: {grade_calculus(82)}\")\n",
    "print(f\"Score 55: {grade_calculus(55)}\")"
   ]
  },
  {
   "cell_type": "code",
   "execution_count": null,
   "id": "0598d973-4ea4-4717-a117-9adf747de1f0",
   "metadata": {},
   "outputs": [],
   "source": []
  },
  {
   "cell_type": "code",
   "execution_count": null,
   "id": "efebf3b0-e639-4842-a7c8-b871f21167e5",
   "metadata": {},
   "outputs": [],
   "source": []
  },
  {
   "cell_type": "code",
   "execution_count": null,
   "id": "63d0950a-27eb-476d-9c38-165c3925ab76",
   "metadata": {},
   "outputs": [],
   "source": []
  },
  {
   "cell_type": "code",
   "execution_count": null,
   "id": "da0d9b96-a38d-408f-bc78-a287a9de540d",
   "metadata": {},
   "outputs": [],
   "source": []
  },
  {
   "cell_type": "code",
   "execution_count": null,
   "id": "760e0030-1aee-49fc-98e0-dc2f02ebc179",
   "metadata": {},
   "outputs": [],
   "source": []
  },
  {
   "cell_type": "code",
   "execution_count": null,
   "id": "f3c03b30-351e-4f4c-9448-7ae8a9c75147",
   "metadata": {},
   "outputs": [],
   "source": []
  },
  {
   "cell_type": "code",
   "execution_count": null,
   "id": "147c9a7a-47ff-4f89-9ffe-84cfa5f171f1",
   "metadata": {},
   "outputs": [],
   "source": []
  }
 ],
 "metadata": {
  "kernelspec": {
   "display_name": "Python [conda env:base] *",
   "language": "python",
   "name": "conda-base-py"
  },
  "language_info": {
   "codemirror_mode": {
    "name": "ipython",
    "version": 3
   },
   "file_extension": ".py",
   "mimetype": "text/x-python",
   "name": "python",
   "nbconvert_exporter": "python",
   "pygments_lexer": "ipython3",
   "version": "3.13.5"
  }
 },
 "nbformat": 4,
 "nbformat_minor": 5
}
