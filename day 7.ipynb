{
 "cells": [
  {
   "cell_type": "code",
   "execution_count": 24,
   "id": "dc0f5ca1-8f4f-44b2-83dd-47aebdd4854d",
   "metadata": {},
   "outputs": [],
   "source": [
    "# inheritence\n"
   ]
  },
  {
   "cell_type": "code",
   "execution_count": null,
   "id": "0cfcef78-61c1-48a8-a6e3-1b2ffd7ca57b",
   "metadata": {},
   "outputs": [],
   "source": [
    "class A:\n",
    "\n",
    "    def i_am_a():\n",
    "        print('I am a Func of Class A')\n",
    "\n",
    "    def i_am_b():\n",
    "        print('I am b Func of Class B')\n",
    "\n",
    "\n",
    "class B:\n",
    "\n",
    "    def i_am_b():\n",
    "        print('I am b Func of Class B')"
   ]
  },
  {
   "cell_type": "code",
   "execution_count": null,
   "id": "712998e4-2d75-494d-80a6-2da9b0183191",
   "metadata": {},
   "outputs": [],
   "source": [
    "# simple Inheritance(single)\n",
    "# Multiple Inheritance\n",
    "# Multilevel Inheritance\n",
    "# Hybrid Inheritance"
   ]
  },
  {
   "cell_type": "code",
   "execution_count": null,
   "id": "4a0e14fe-2935-4f04-a7dd-266977b1add8",
   "metadata": {},
   "outputs": [],
   "source": [
    "# Simple Inheritance(single)"
   ]
  },
  {
   "cell_type": "code",
   "execution_count": 16,
   "id": "f7ab2347-d72e-4b01-918c-f3be59e9f06d",
   "metadata": {},
   "outputs": [],
   "source": [
    "class BMW: # Parent Class, Main Class, Super Class, Base Class\n",
    "\n",
    "  def super_turbo_engine(self):\n",
    "    print('super_turbo_engine Fast Speed')\n",
    "\n",
    "class Audi(BMW): # Child Class, Sub Class\n",
    "\n",
    "  def auto_pilot(self):\n",
    "    print('Can run on Auto Pilot Mode!!')\n",
    "    "
   ]
  },
  {
   "cell_type": "code",
   "execution_count": 22,
   "id": "405e0c41-8f58-4837-b3a4-592fbc6ddd84",
   "metadata": {},
   "outputs": [],
   "source": [
    "audi_r8 = Audi()"
   ]
  },
  {
   "cell_type": "code",
   "execution_count": 20,
   "id": "093d5734-aedd-4bc0-9ca5-90d2f20c2808",
   "metadata": {},
   "outputs": [
    {
     "name": "stdout",
     "output_type": "stream",
     "text": [
      "Can run on Auto Pilot Mode!!\n"
     ]
    }
   ],
   "source": [
    "audi_r8.auto_pilot()"
   ]
  },
  {
   "cell_type": "code",
   "execution_count": 23,
   "id": "940675ad-58cc-484d-8247-2adbb3358ec2",
   "metadata": {},
   "outputs": [
    {
     "name": "stdout",
     "output_type": "stream",
     "text": [
      "super_turbo_engine Fast Speed\n"
     ]
    }
   ],
   "source": [
    "audi_r8.super_turbo_engine()"
   ]
  },
  {
   "cell_type": "code",
   "execution_count": 18,
   "id": "041d1064-e3b7-47ec-a38f-99359cd7224f",
   "metadata": {},
   "outputs": [],
   "source": [
    "# multiple inheritence"
   ]
  },
  {
   "cell_type": "code",
   "execution_count": 2,
   "id": "6d645d81-5d40-47ea-8aa5-187580eee85c",
   "metadata": {},
   "outputs": [],
   "source": [
    "class Daily_Object:\n",
    "  def phone_case(self):\n",
    "    print('Strong Build Phone Case')\n",
    "\n",
    "class JBL:\n",
    "  def sonic_speaker(self):\n",
    "    print('High Quality Sound Speaker')\n",
    "\n",
    "class Samsung:\n",
    "  def screen_display(self):\n",
    "    print('4k HD Display')\n",
    "\n",
    "class Nvidia:\n",
    "  def motherboard(self):\n",
    "    print('Fast motherboard')\n",
    "\n",
    "class Sony:\n",
    "  def camera(self):\n",
    "    print('4k Camera')\n",
    "\n",
    "class Lava:\n",
    "  def charger(self):\n",
    "    print('SuperFast Charger From LAVA')\n",
    "\n",
    "\n",
    "class One_Plus:\n",
    "  def charger(self):\n",
    "    print('Original Superfast Charger!! From One_Plus')\n",
    "\n",
    "\n",
    "class Mobile(Daily_Object,JBL,Samsung,Nvidia,Sony,One_Plus,Lava):\n",
    "  def __init__(self):\n",
    "    print('Phone Object Created Successfully!!')\n",
    "\n",
    "  def charger(self):\n",
    "    print('Actual Charger From Mobile!!')"
   ]
  },
  {
   "cell_type": "code",
   "execution_count": 4,
   "id": "a358d543-f0d8-4dc9-834a-c34eb85c00b3",
   "metadata": {},
   "outputs": [
    {
     "name": "stdout",
     "output_type": "stream",
     "text": [
      "Phone Object Created Successfully!!\n"
     ]
    }
   ],
   "source": [
    "\n",
    "nothing = Mobile()"
   ]
  },
  {
   "cell_type": "code",
   "execution_count": 6,
   "id": "7cbc7971-112d-4e3e-b142-bc7b1f44e523",
   "metadata": {},
   "outputs": [
    {
     "name": "stdout",
     "output_type": "stream",
     "text": [
      "4k Camera\n"
     ]
    }
   ],
   "source": [
    "nothing.camera()"
   ]
  },
  {
   "cell_type": "code",
   "execution_count": 7,
   "id": "e3d36761-b87e-4e05-b6bf-669c297781a3",
   "metadata": {},
   "outputs": [
    {
     "name": "stdout",
     "output_type": "stream",
     "text": [
      "4k HD Display\n"
     ]
    }
   ],
   "source": [
    "nothing.screen_display()"
   ]
  },
  {
   "cell_type": "code",
   "execution_count": 9,
   "id": "e55fa876-359b-4c45-90fa-3fa4e714fe7b",
   "metadata": {},
   "outputs": [
    {
     "name": "stdout",
     "output_type": "stream",
     "text": [
      "Actual Charger From Mobile!!\n"
     ]
    }
   ],
   "source": [
    "nothing.charger()"
   ]
  },
  {
   "cell_type": "code",
   "execution_count": null,
   "id": "86d350a2-042a-486a-9651-78e8c64c37cf",
   "metadata": {},
   "outputs": [],
   "source": [
    "# multilevel inheritence "
   ]
  },
  {
   "cell_type": "code",
   "execution_count": 11,
   "id": "2f45b511-3d4c-439b-95a5-8253cae0cf05",
   "metadata": {},
   "outputs": [],
   "source": [
    "class GrandFather: #SuperClass\n",
    "  def land_property(self):\n",
    "    print('Land Property!!')\n",
    "\n",
    "class Father(GrandFather): #Subclass\n",
    "  def bank_balance(self):\n",
    "    print('Big Money Player, Huge Bank Balance')\n",
    "\n",
    "class Son(Father): #Subclass\n",
    "  def political_power(self):\n",
    "    print('Political Powers')\n",
    "\n",
    "class GrandSon(Son): #Subclass\n",
    "  def mind(self):\n",
    "    print('Mind For Self Study!!')\n",
    "\n",
    "class Friend(GrandSon): #Subclass\n",
    "  def __init__(self):\n",
    "    print('Nothing!!')"
   ]
  },
  {
   "cell_type": "code",
   "execution_count": 12,
   "id": "b45480cd-b171-4104-8986-2d238168c38a",
   "metadata": {},
   "outputs": [
    {
     "name": "stdout",
     "output_type": "stream",
     "text": [
      "Done\n"
     ]
    }
   ],
   "source": [
    "aman = GrandSon()\n",
    "print('Done')"
   ]
  },
  {
   "cell_type": "code",
   "execution_count": 14,
   "id": "14e6c17b-f042-4ddc-8061-d8b8ecd7ec59",
   "metadata": {},
   "outputs": [
    {
     "name": "stdout",
     "output_type": "stream",
     "text": [
      "Big Money Player, Huge Bank Balance\n"
     ]
    }
   ],
   "source": [
    "aman.bank_balance()\n"
   ]
  },
  {
   "cell_type": "code",
   "execution_count": 15,
   "id": "e1ee8619-6574-47b6-9dfc-5987f404c094",
   "metadata": {},
   "outputs": [],
   "source": [
    "# hybrid inheritence"
   ]
  },
  {
   "cell_type": "code",
   "execution_count": 25,
   "id": "421b5d7e-750f-4445-bf8a-aaa645818f05",
   "metadata": {},
   "outputs": [],
   "source": [
    "class Hybrid_class(Mobile,Friend,Audi): # Mobile(Multiple), Friend(Multilevel)\n",
    "  def __init__(self):\n",
    "    print('This is a Hybrid Class')\n",
    "\n",
    "  def info(self):\n",
    "    print('It can call any methods!!')"
   ]
  },
  {
   "cell_type": "code",
   "execution_count": 27,
   "id": "cc644504-18da-49f6-b4c8-285f35901093",
   "metadata": {},
   "outputs": [
    {
     "name": "stdout",
     "output_type": "stream",
     "text": [
      "This is a Hybrid Class\n"
     ]
    }
   ],
   "source": [
    "ob = Hybrid_class()"
   ]
  },
  {
   "cell_type": "code",
   "execution_count": 28,
   "id": "3631c63d-38e1-410f-aeff-d6e63d9dd111",
   "metadata": {},
   "outputs": [
    {
     "name": "stdout",
     "output_type": "stream",
     "text": [
      "It can call any methods!!\n"
     ]
    }
   ],
   "source": [
    "ob.info()"
   ]
  },
  {
   "cell_type": "code",
   "execution_count": 30,
   "id": "c0288c5b-802a-48c8-9848-866824715247",
   "metadata": {},
   "outputs": [
    {
     "name": "stdout",
     "output_type": "stream",
     "text": [
      "Strong Build Phone Case\n"
     ]
    }
   ],
   "source": [
    "ob.phone_case()"
   ]
  },
  {
   "cell_type": "code",
   "execution_count": null,
   "id": "7b392d3a-a622-4736-a11b-5228d7e198e3",
   "metadata": {},
   "outputs": [],
   "source": [
    "#hierarchical"
   ]
  },
  {
   "cell_type": "code",
   "execution_count": null,
   "id": "37f3a09f-1ef1-4feb-80cc-3540120200e8",
   "metadata": {},
   "outputs": [],
   "source": [
    "class UGC:  # Parent Class\n",
    "  def __init__(self):\n",
    "    print('Grant Permission')\n",
    "  def college_approved(self):\n",
    "    print('College Has been Approved')\n",
    "\n",
    "class DU(UGC):\n",
    "  def multiple_colleges(self):\n",
    "    print('List of Colleges!!')\n",
    "\n",
    "class IP(UGC):\n",
    "  def multiple_colleges(self):\n",
    "    print('List of Colleges!!')\n",
    "\n",
    "\n",
    "class DTU(UGC):\n",
    "  def multiple_colleges(self):\n",
    "    print('List of Colleges!!')\n",
    "\n",
    "class BHU(UGC):\n",
    "  def multiple_colleges(self):\n",
    "    print('List of Colleges!!')"
   ]
  },
  {
   "cell_type": "code",
   "execution_count": null,
   "id": "6085e884-e33c-4bfc-b89e-ddcfc78b6ed7",
   "metadata": {},
   "outputs": [],
   "source": [
    "# Polymorphism"
   ]
  },
  {
   "cell_type": "code",
   "execution_count": 31,
   "id": "761d6586-3d8d-4e1b-b265-34c8c6ef667d",
   "metadata": {},
   "outputs": [
    {
     "data": {
      "text/plain": [
       "79"
      ]
     },
     "execution_count": 31,
     "metadata": {},
     "output_type": "execute_result"
    }
   ],
   "source": [
    "a = 34\n",
    "b = 45\n",
    "\n",
    "a + b"
   ]
  },
  {
   "cell_type": "code",
   "execution_count": null,
   "id": "a26b1068-b461-4364-a6b0-08fc4fe03572",
   "metadata": {},
   "outputs": [],
   "source": [
    "a = '34'\n",
    "b = '45'\n",
    "\n",
    "a + b"
   ]
  },
  {
   "cell_type": "code",
   "execution_count": 32,
   "id": "364cbc76-b0b9-443a-a57f-6c3522ae42f7",
   "metadata": {},
   "outputs": [
    {
     "data": {
      "text/plain": [
       "[35, 454, 546, 35, 45, 654]"
      ]
     },
     "execution_count": 32,
     "metadata": {},
     "output_type": "execute_result"
    }
   ],
   "source": [
    "a = [35,454,546]\n",
    "b = [35,45,654]\n",
    "\n",
    "a + b"
   ]
  },
  {
   "cell_type": "code",
   "execution_count": null,
   "id": "c1e0ddcf-cd9b-4394-8dff-dd24780d9020",
   "metadata": {},
   "outputs": [],
   "source": [
    "# overriding\n",
    "# overloading"
   ]
  },
  {
   "cell_type": "code",
   "execution_count": 33,
   "id": "7d75c337-3fde-422e-803b-8bdb26610d39",
   "metadata": {},
   "outputs": [
    {
     "name": "stdout",
     "output_type": "stream",
     "text": [
      "None <class 'NoneType'>\n"
     ]
    }
   ],
   "source": [
    "a = 45\n",
    "\n",
    "a = '45'\n",
    "\n",
    "a = None\n",
    "\n",
    "print(a,type(a))"
   ]
  },
  {
   "cell_type": "code",
   "execution_count": 34,
   "id": "ad648ab0-9165-4e55-9f27-41a87a2269e4",
   "metadata": {},
   "outputs": [
    {
     "name": "stdout",
     "output_type": "stream",
     "text": [
      "F1 Car Speed:  Max speed 200 km/hr\n",
      "F1 Car Speed:  Max speed 250 km/hr\n",
      "F1 Car Speed:  Max speed 300 km/hr\n"
     ]
    }
   ],
   "source": [
    "class Car:\n",
    "  def speed(self):\n",
    "    return('Max speed 200 km/hr')\n",
    "\n",
    "  def auto_pilot(self):\n",
    "    return('It supports Auto Pilot Mode!!')\n",
    "\n",
    "  def info(self):\n",
    "    return('This is just a car object')\n",
    "\n",
    "\n",
    "class Bmw(Car):\n",
    "  def speed(self):\n",
    "    return('Max speed 250 km/hr')\n",
    "\n",
    "  def info(self):\n",
    "    return('A BMW car object')\n",
    "\n",
    "\n",
    "\n",
    "class Audi(Car):\n",
    "  def speed(self):\n",
    "    return('Max speed 300 km/hr')\n",
    "\n",
    "  def info(self):\n",
    "    return('Audi car🏎️')\n",
    "\n",
    "\n",
    "\n",
    "\n",
    "\n",
    "for i in [Car,Bmw,Audi]:\n",
    "  f1 = i()\n",
    "  print('F1 Car Speed: ',f1.speed())\n",
    "\n"
   ]
  },
  {
   "cell_type": "code",
   "execution_count": 35,
   "id": "ed7fed22-5058-47ae-bfc3-31dd96483a80",
   "metadata": {},
   "outputs": [
    {
     "name": "stdout",
     "output_type": "stream",
     "text": [
      "Max speed 200 km/hr\n"
     ]
    }
   ],
   "source": [
    "f1 = Car()\n",
    "print(f1.speed())"
   ]
  },
  {
   "cell_type": "code",
   "execution_count": 36,
   "id": "970c0add-cec9-4666-9e44-f5a2d0261ece",
   "metadata": {},
   "outputs": [
    {
     "name": "stdout",
     "output_type": "stream",
     "text": [
      "Max speed 250 km/hr\n"
     ]
    }
   ],
   "source": [
    "f1 = Bmw()\n",
    "print(f1.speed())"
   ]
  },
  {
   "cell_type": "code",
   "execution_count": 37,
   "id": "93bd9649-69c0-415d-bedd-e99432308bd7",
   "metadata": {},
   "outputs": [
    {
     "name": "stdout",
     "output_type": "stream",
     "text": [
      "Max speed 300 km/hr\n"
     ]
    }
   ],
   "source": [
    "f1 = Audi()\n",
    "print(f1.speed())"
   ]
  },
  {
   "cell_type": "code",
   "execution_count": 39,
   "id": "fe1f7aee-18e2-4591-9dc3-c4ac5b16ec2f",
   "metadata": {},
   "outputs": [],
   "source": [
    "# method overloading"
   ]
  },
  {
   "cell_type": "code",
   "execution_count": 60,
   "id": "799604d4-1665-4e4d-99ba-c10c2946702f",
   "metadata": {},
   "outputs": [
    {
     "name": "stdout",
     "output_type": "stream",
     "text": [
      "hello inder, how are you??\n"
     ]
    }
   ],
   "source": [
    "class IITM:\n",
    "\n",
    "\n",
    "\n",
    "    def intro(self):\n",
    "        print('hello candidate')\n",
    "\n",
    "    def intro(self,name):\n",
    "        print(f'hello {name}, how are you??')\n",
    "\n",
    "a = IITM()\n",
    "\n",
    "a.intro('inder')"
   ]
  },
  {
   "cell_type": "code",
   "execution_count": 61,
   "id": "a45b9ef9-853e-4136-ae2c-0f9618288ad4",
   "metadata": {},
   "outputs": [
    {
     "name": "stdout",
     "output_type": "stream",
     "text": [
      "Hello Komal,how are you??\n",
      "Your Address is Delhi\n"
     ]
    }
   ],
   "source": [
    "class IITM:\n",
    "\n",
    "  def intro(self):\n",
    "    print('Hello Candidates!!')\n",
    "\n",
    "  def intro(self,name):\n",
    "    print(f'Hello {name},how are you??')\n",
    "\n",
    "  def intro(self,name,address):\n",
    "    print(f'Hello {name},how are you??')\n",
    "    print(f'Your Address is {address}')\n",
    "\n",
    "a = IITM()\n",
    "\n",
    "a.intro('Komal','Delhi')"
   ]
  },
  {
   "cell_type": "code",
   "execution_count": 64,
   "id": "500ba4ee-1700-44f5-8685-ce71863fd04a",
   "metadata": {},
   "outputs": [],
   "source": [
    "class IITM:\n",
    "\n",
    "  def intro(self,name = None,address = None):\n",
    "    if (name == None) and (address == None):\n",
    "      print('Hello Candidates!!')\n",
    "\n",
    "    elif name != None and (address == None):\n",
    "      print(f'Hello {name},how are you??')\n",
    "\n",
    "    elif (name != None) and  (address != None):\n",
    "      print(f'Hello {name},how are you??')\n",
    "      print(f'Your Address is {address}')\n",
    "\n",
    "    else:\n",
    "      print('Hello Buddy!!')"
   ]
  },
  {
   "cell_type": "code",
   "execution_count": 65,
   "id": "f114d1be-7245-4801-96dd-0ec08aca87fd",
   "metadata": {},
   "outputs": [
    {
     "name": "stdout",
     "output_type": "stream",
     "text": [
      "Hello Buddy!!\n"
     ]
    }
   ],
   "source": [
    "a = IITM()\n",
    "a.intro(address='Delhi')\n"
   ]
  },
  {
   "cell_type": "code",
   "execution_count": 80,
   "id": "3adba7fd-ae96-481f-83b1-30913bd503da",
   "metadata": {},
   "outputs": [],
   "source": [
    "#abstraction\n",
    "# class was in capital and methods are in lower case\n",
    "# it willl bw idea\n",
    "# its physical mpdel doesnt exixsts \n",
    "# all functionsare mandatory"
   ]
  },
  {
   "cell_type": "code",
   "execution_count": 83,
   "id": "6645e5e7-00b0-478a-92fa-cc6974b0f1ad",
   "metadata": {},
   "outputs": [
    {
     "ename": "TypeError",
     "evalue": "Can't instantiate abstract class Website without an implementation for abstract methods 'login', 'logout'",
     "output_type": "error",
     "traceback": [
      "\u001b[1;31m---------------------------------------------------------------------------\u001b[0m",
      "\u001b[1;31mTypeError\u001b[0m                                 Traceback (most recent call last)",
      "Cell \u001b[1;32mIn[83], line 14\u001b[0m\n\u001b[0;32m      9\u001b[0m   \u001b[38;5;129m@abstractmethod\u001b[39m\n\u001b[0;32m     10\u001b[0m   \u001b[38;5;28;01mdef\u001b[39;00m\u001b[38;5;250m \u001b[39m\u001b[38;5;21mlogout\u001b[39m(\u001b[38;5;28mself\u001b[39m):\n\u001b[0;32m     11\u001b[0m     \u001b[38;5;28mprint\u001b[39m(\u001b[38;5;124m'\u001b[39m\u001b[38;5;124mA logout method\u001b[39m\u001b[38;5;124m'\u001b[39m)\n\u001b[1;32m---> 14\u001b[0m asus \u001b[38;5;241m=\u001b[39m Website()\n\u001b[0;32m     15\u001b[0m \u001b[38;5;28mprint\u001b[39m(\u001b[38;5;124m'\u001b[39m\u001b[38;5;124mDone\u001b[39m\u001b[38;5;124m'\u001b[39m)\n",
      "\u001b[1;31mTypeError\u001b[0m: Can't instantiate abstract class Website without an implementation for abstract methods 'login', 'logout'"
     ]
    }
   ],
   "source": [
    "from abc import ABC, abstractmethod\n",
    "\n",
    "class Website(ABC):\n",
    "\n",
    "  @abstractmethod\n",
    "  def login(self):\n",
    "    print('This is a Login method')\n",
    "\n",
    "  @abstractmethod\n",
    "  def logout(self):\n",
    "    print('A logout method')\n",
    "\n",
    "\n",
    "asus = Website()\n",
    "print('Done')"
   ]
  },
  {
   "cell_type": "code",
   "execution_count": 84,
   "id": "1d7f3894-2127-4747-a202-d3f1233422f7",
   "metadata": {},
   "outputs": [],
   "source": [
    "class Nakul(Website):\n",
    "\n",
    "  def signup(self):\n",
    "    print('user can Signup!!')\n",
    "\n",
    "  def login(self):\n",
    "    print('This is a Login  Form')\n",
    "\n",
    "  def logout(self):\n",
    "    print('Use can logut')\n",
    "\n",
    "google = Nakul()\n"
   ]
  },
  {
   "cell_type": "code",
   "execution_count": 85,
   "id": "e37fc86f-bbc1-4669-9f75-7cf7db15695b",
   "metadata": {},
   "outputs": [
    {
     "name": "stdout",
     "output_type": "stream",
     "text": [
      "user can Signup!!\n"
     ]
    }
   ],
   "source": [
    "google.signup()"
   ]
  },
  {
   "cell_type": "code",
   "execution_count": 86,
   "id": "ae8ff6df-74ef-4eee-8a23-f4e1065dab2b",
   "metadata": {},
   "outputs": [
    {
     "name": "stdout",
     "output_type": "stream",
     "text": [
      "This is a Login  Form\n"
     ]
    }
   ],
   "source": [
    "google.login()\n"
   ]
  },
  {
   "cell_type": "code",
   "execution_count": 87,
   "id": "58cce9f0-97d9-4d96-8a2d-81af4390ba7b",
   "metadata": {},
   "outputs": [
    {
     "name": "stdout",
     "output_type": "stream",
     "text": [
      "Use can logut\n"
     ]
    }
   ],
   "source": [
    "google.logout()"
   ]
  }
 ],
 "metadata": {
  "kernelspec": {
   "display_name": "Python 3 (ipykernel)",
   "language": "python",
   "name": "python3"
  },
  "language_info": {
   "codemirror_mode": {
    "name": "ipython",
    "version": 3
   },
   "file_extension": ".py",
   "mimetype": "text/x-python",
   "name": "python",
   "nbconvert_exporter": "python",
   "pygments_lexer": "ipython3",
   "version": "3.13.5"
  }
 },
 "nbformat": 4,
 "nbformat_minor": 5
}
